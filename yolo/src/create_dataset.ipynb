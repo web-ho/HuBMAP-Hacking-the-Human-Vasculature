{
 "cells": [
  {
   "cell_type": "markdown",
   "metadata": {},
   "source": [
    "#### This notebook will create dataset as expected by yolo"
   ]
  },
  {
   "cell_type": "code",
   "execution_count": null,
   "metadata": {},
   "outputs": [],
   "source": [
    "from configs import config\n",
    "\n",
    "import os\n",
    "import json\n",
    "import shutil\n",
    "from tqdm import tqdm\n",
    "from pathlib import Path\n",
    "import numpy as np\n",
    "import pandas as pd"
   ]
  },
  {
   "cell_type": "code",
   "execution_count": null,
   "metadata": {},
   "outputs": [],
   "source": [
    "with open(config.POLYGON_PATH, 'r') as json_file:\n",
    "    polygon_list = list(json_file)"
   ]
  },
  {
   "cell_type": "code",
   "execution_count": null,
   "metadata": {},
   "outputs": [],
   "source": [
    "img_id = []\n",
    "classes = []\n",
    "coords = []\n",
    "for polygon in polygon_list:\n",
    "    result = json.loads(polygon)\n",
    "    image_id = result['id']\n",
    "    for re in result['annotations']:\n",
    "        img_id.append(image_id)\n",
    "        classes.append(re['type'])\n",
    "        coords.append(re['coordinates'])\n",
    "    \n",
    "    \n",
    "df = pd.DataFrame([img_id,classes,coords]).T\n",
    "df.columns = ['id','type','coords']\n",
    "df = df.explode(column='coords').reset_index(drop=True)"
   ]
  },
  {
   "cell_type": "code",
   "execution_count": null,
   "metadata": {},
   "outputs": [],
   "source": [
    "df_blood = df[df['type']=='blood_vessel'].reset_index(drop=True)"
   ]
  },
  {
   "cell_type": "code",
   "execution_count": null,
   "metadata": {},
   "outputs": [],
   "source": [
    "# train-valid split \n",
    "img_id = df_blood['id'].unique()\n",
    "train_ids = img_id[:1600]\n",
    "valid_ids = img_id[1600:]\n",
    "\n",
    "val_df = df_blood[df_blood['id'].isin(valid_ids)]\n",
    "train_df = df_blood[df_blood['id'].isin(train_ids)]"
   ]
  },
  {
   "cell_type": "code",
   "execution_count": null,
   "metadata": {},
   "outputs": [],
   "source": [
    "DEST_PATH = config.DEST_DIR\n",
    "Path(DEST_PATH).mkdir(exist_ok=True)\n",
    "\n",
    "_ = Path(f\"{DEST_PATH}/dataset.yaml\").write_text(f\"\"\"path: {DEST_PATH}\n",
    "train: /data/yolo/train/images\n",
    "val: /data/yolo/val/images\n",
    "\n",
    "nc: 1\n",
    "names: ['0']\n",
    "                                                \n",
    "\"\"\"\n",
    ")"
   ]
  },
  {
   "cell_type": "code",
   "execution_count": null,
   "metadata": {},
   "outputs": [],
   "source": [
    "def create_label_file(path: Path, coordinates, image_size):\n",
    "    label_txt = ''\n",
    "    for coordinate in coordinates:\n",
    "        label_txt += '0 '\n",
    "        # Parse the string representation of coordinates into a list\n",
    "        coor_list = json.loads(coordinate)\n",
    "        coor_array = np.array(coor_list).astype(float)\n",
    "        coor_array /= float(image_size)\n",
    "        coor_str = ' '.join(coor_array.flatten().astype(str))\n",
    "        label_txt += f'{coor_str}\\n'\n",
    "    path.write_text(label_txt)"
   ]
  },
  {
   "cell_type": "code",
   "execution_count": null,
   "metadata": {},
   "outputs": [],
   "source": [
    "for mode in ['train', 'val']:\n",
    "    image_folder = Path(DEST_PATH) / f\"{mode}\" / \"images\"\n",
    "    image_folder.mkdir(parents=True, exist_ok=True)\n",
    "\n",
    "    label_folder = Path(DEST_PATH) / f\"{mode}\" / \"labels\"\n",
    "    label_folder.mkdir(parents=True, exist_ok=True)\n",
    "\n",
    "    # Get the dataframe based on the current mode\n",
    "    df = locals().get(f\"{mode}_df\")\n",
    "    grouped = df.groupby('id')\n",
    "\n",
    "    # Iterate over each image_id and its corresponding group_df\n",
    "    for i, group_df in tqdm(grouped, total=len(grouped)):\n",
    "        # Extract file_name, width, and height from the first row of group_df\n",
    "        image_path = os.path.join(config.TRAIN_PATH, f\"{i}.tif\")\n",
    "        # Extract the bounding boxes from each row in the group_df\n",
    "        coords = [row.coords for _, row in group_df.iterrows()]\n",
    "\n",
    "        # Define paths for the image and label files\n",
    "        img_path = image_folder / f\"{i}.tif\"\n",
    "        label_path = label_folder / f\"{i}.txt\"\n",
    "        shutil.copy(image_path, img_path)\n",
    "        create_label_file(label_path, coords, image_size=512)"
   ]
  }
 ],
 "metadata": {
  "language_info": {
   "name": "python"
  },
  "orig_nbformat": 4
 },
 "nbformat": 4,
 "nbformat_minor": 2
}
